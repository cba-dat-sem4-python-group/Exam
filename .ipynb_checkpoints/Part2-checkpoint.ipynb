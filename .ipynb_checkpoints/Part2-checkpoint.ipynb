{
 "cells": [
  {
   "cell_type": "code",
   "execution_count": null,
   "metadata": {},
   "outputs": [],
   "source": [
    "import webget\n",
    "import pandas as pd\n",
    "import numpy as np\n",
    "import tensorflow as tf\n",
    "\n",
    "#webget.download('https://archive.ics.uci.edu/ml/machine-learning-databases/poker/poker-hand-testing.data')\n",
    "#webget.download('https://archive.ics.uci.edu/ml/machine-learning-databases/poker/poker-hand-training-true.data')\n",
    "\n",
    "train_url = 'https://archive.ics.uci.edu/ml/machine-learning-databases/poker/poker-hand-training-true.data'\n",
    "test_url = 'https://archive.ics.uci.edu/ml/machine-learning-databases/poker/poker-hand-testing.data'\n",
    "\n",
    "col_names = {0:'Suit of card #1', 1:'Rank of card #1',\n",
    "             2:'Suit of card #2', 3:'Rank of card #2',\n",
    "             4:'Suit of card #3', 5:'Rank of card #3',\n",
    "             6:'Suit of card #4', 7:'Rank of card #4',\n",
    "             8:'Suit of card #5', 9:'Rank of card #5',\n",
    "             10:'Poker Hand'}\n",
    "\n",
    "#train = pd.read_csv('poker-hand-training-true.data', header=None)\n",
    "train = pd.read_csv(train_url, header=None)\n",
    "train.rename(col_names, axis='columns', inplace=True)\n",
    "\n",
    "#test = pd.read_csv('poker-hand-testing.data', header=None)\n",
    "test = pd.read_csv(test_url, header=None)\n",
    "test.rename(col_names, axis='columns', inplace=True)\n",
    "\n",
    "x_train = train.iloc[:,0:10]\n",
    "y_train = train.iloc[:,10]\n",
    "x_test = train.iloc[:,0:10]\n",
    "y_test = train.iloc[:,10]"
   ]
  },
  {
   "cell_type": "code",
   "execution_count": null,
   "metadata": {},
   "outputs": [],
   "source": [
    "model = tf.keras.models.Sequential([\n",
    "  tf.keras.layers.Flatten(input_shape=(10,)),\n",
    "  tf.keras.layers.Dense(512, activation=tf.nn.relu),\n",
    "  tf.keras.layers.Dropout(0.2),\n",
    "  tf.keras.layers.Dense(10, activation=tf.nn.softmax)\n",
    "])\n",
    "model.compile(optimizer='adam',\n",
    "              loss='sparse_categorical_crossentropy',\n",
    "              metrics=['accuracy'])\n",
    "\n",
    "model.fit(x_train.values, y_train.values, epochs=5)\n",
    "model.evaluate(x_test.values, y_test.values)"
   ]
  },
  {
   "cell_type": "code",
   "execution_count": null,
   "metadata": {},
   "outputs": [],
   "source": [
    "predictions = model.predict_proba(x_test)\n",
    "vals = ['Nothing', 'One Pair', 'Two Pairs', 'Three of a kind', 'Straight',\n",
    "        'Flush', 'Full house', 'Four of a kind', 'Straight flush', 'Royal flush']\n",
    "count = 0\n",
    "for x in range(len(predictions)):\n",
    "    pred = np.argmax(predictions[x])\n",
    "    real = y_test.loc[x]\n",
    "    if pred == real:\n",
    "        count += 1\n",
    "    else:\n",
    "        print('prediction: ' + vals[pred], 'real: ' + vals[real])\n",
    "print('acc', count*100//len(predictions),'%')"
   ]
  }
 ],
 "metadata": {
  "kernelspec": {
   "display_name": "Python 3",
   "language": "python",
   "name": "python3"
  },
  "language_info": {
   "codemirror_mode": {
    "name": "ipython",
    "version": 3
   },
   "file_extension": ".py",
   "mimetype": "text/x-python",
   "name": "python",
   "nbconvert_exporter": "python",
   "pygments_lexer": "ipython3",
   "version": "3.7.1"
  }
 },
 "nbformat": 4,
 "nbformat_minor": 2
}
