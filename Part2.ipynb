{
 "cells": [
  {
   "cell_type": "code",
   "execution_count": 3,
   "metadata": {
    "scrolled": true
   },
   "outputs": [],
   "source": [
    "# import webget\n",
    "import pandas as pd\n",
    "import numpy as np\n",
    "import tensorflow as tf\n",
    "\n",
    "# webget.download('https://archive.ics.uci.edu/ml/machine-learning-databases/poker/poker-hand-testing.data')\n",
    "# webget.download('https://archive.ics.uci.edu/ml/machine-learning-databases/poker/poker-hand-training-true.data')\n",
    "\n",
    "train_url = 'https://archive.ics.uci.edu/ml/machine-learning-databases/poker/poker-hand-training-true.data'\n",
    "test_url = 'https://archive.ics.uci.edu/ml/machine-learning-databases/poker/poker-hand-testing.data'\n",
    "\n",
    "col_names = {0:'Suit of card #1', 1:'Rank of card #1',\n",
    "             2:'Suit of card #2', 3:'Rank of card #2',\n",
    "             4:'Suit of card #3', 5:'Rank of card #3',\n",
    "             6:'Suit of card #4', 7:'Rank of card #4',\n",
    "             8:'Suit of card #5', 9:'Rank of card #5',\n",
    "             10:'Poker Hand'}\n",
    "\n",
    "# train = pd.read_csv('poker-hand-training-true.data', header=None)\n",
    "train = pd.read_csv(train_url, header=None)\n",
    "train.rename(col_names, axis='columns', inplace=True)\n",
    "\n",
    "# test = pd.read_csv('poker-hand-testing.data', header=None)\n",
    "test = pd.read_csv(test_url, header=None)\n",
    "test.rename(col_names, axis='columns', inplace=True)\n",
    "\n",
    "x_train = train.iloc[:,0:10]\n",
    "y_train = train.iloc[:,10]\n",
    "x_test = train.iloc[:,0:10]\n",
    "y_test = train.iloc[:,10]"
   ]
  },
  {
   "cell_type": "code",
   "execution_count": null,
   "metadata": {
    "scrolled": true
   },
   "outputs": [],
   "source": [
    "model = tf.keras.models.Sequential()\n",
    "model.add(tf.keras.layers.Flatten(input_shape=(10,)))\n",
    "model.add(tf.keras.layers.Dense(2048, activation='relu'))\n",
    "model.add(tf.keras.layers.Dense(10, activation='softmax'))\n",
    "\n",
    "model.compile(optimizer='adam',\n",
    "              loss='sparse_categorical_crossentropy',\n",
    "              metrics=['accuracy'])\n",
    "\n",
    "model.fit(x_train.values, y_train.values, epochs=1000)\n",
    "model.evaluate(x_test.values, y_test.values)"
   ]
  },
  {
   "cell_type": "code",
   "execution_count": null,
   "metadata": {},
   "outputs": [],
   "source": [
    "model.save('my_model.h5')"
   ]
  },
  {
   "cell_type": "code",
   "execution_count": 4,
   "metadata": {},
   "outputs": [
    {
     "name": "stdout",
     "output_type": "stream",
     "text": [
      "_________________________________________________________________\n",
      "Layer (type)                 Output Shape              Param #   \n",
      "=================================================================\n",
      "flatten_10 (Flatten)         (None, 10)                0         \n",
      "_________________________________________________________________\n",
      "dense_18 (Dense)             (None, 2048)              22528     \n",
      "_________________________________________________________________\n",
      "dense_19 (Dense)             (None, 10)                20490     \n",
      "=================================================================\n",
      "Total params: 43,018\n",
      "Trainable params: 43,018\n",
      "Non-trainable params: 0\n",
      "_________________________________________________________________\n",
      "25010/25010 [==============================] - 3s 114us/sample - loss: 0.0272 - acc: 0.9964\n",
      "Restored model, accuracy: 99.64%\n"
     ]
    }
   ],
   "source": [
    "new_model = tf.keras.models.load_model('my_model.h5')\n",
    "new_model.summary()\n",
    "loss, acc = new_model.evaluate(x_test.values, y_test.values)\n",
    "print(\"Restored model, accuracy: {:5.2f}%\".format(100*acc))"
   ]
  },
  {
   "cell_type": "code",
   "execution_count": 18,
   "metadata": {},
   "outputs": [
    {
     "name": "stdout",
     "output_type": "stream",
     "text": [
      "prediction: Nothing real: One Pair\n",
      "prediction: Nothing real: Straight\n",
      "prediction: One Pair real: Two Pairs\n",
      "prediction: One Pair real: Straight\n",
      "prediction: Two Pairs real: Full house\n",
      "prediction: Two Pairs real: One Pair\n",
      "prediction: Two Pairs real: Three of a kind\n",
      "prediction: Three of a kind real: Two Pairs\n",
      "prediction: Three of a kind real: Full house\n",
      "prediction: Straight real: One Pair\n",
      "prediction: Straight real: Nothing\n",
      "acc 0.9964414234306278\n"
     ]
    }
   ],
   "source": [
    "predictions = new_model.predict_proba(x_test)\n",
    "vals = ['Nothing', 'One Pair', 'Two Pairs', 'Three of a kind', 'Straight',\n",
    "        'Flush', 'Full house', 'Four of a kind', 'Straight flush', 'Royal flush']\n",
    "count = 0\n",
    "fails = []\n",
    "for x in range(len(predictions)):\n",
    "    pred = np.argmax(predictions[x])\n",
    "    real = y_test.loc[x]\n",
    "    if pred == real:\n",
    "        count += 1\n",
    "    else:\n",
    "        fails.append((pred,real))\n",
    "\n",
    "for x in sorted(list(set(fails)), key=lambda x: x[0]):\n",
    "    print('prediction: ' + vals[x[0]], 'real: ' + vals[x[1]])\n",
    "print('acc', count/len(predictions))"
   ]
  }
 ],
 "metadata": {
  "kernelspec": {
   "display_name": "Python 3",
   "language": "python",
   "name": "python3"
  },
  "language_info": {
   "codemirror_mode": {
    "name": "ipython",
    "version": 3
   },
   "file_extension": ".py",
   "mimetype": "text/x-python",
   "name": "python",
   "nbconvert_exporter": "python",
   "pygments_lexer": "ipython3",
   "version": "3.7.1"
  }
 },
 "nbformat": 4,
 "nbformat_minor": 2
}
