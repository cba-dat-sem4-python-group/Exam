{
 "cells": [
  {
   "cell_type": "code",
   "execution_count": 1,
   "metadata": {},
   "outputs": [],
   "source": [
    "import HandMaker as hm\n",
    "import HandChecker as hc\n",
    "import numpy as np\n",
    "import tensorflow as tf"
   ]
  },
  {
   "cell_type": "code",
   "execution_count": 2,
   "metadata": {},
   "outputs": [
    {
     "name": "stdout",
     "output_type": "stream",
     "text": [
      "(1000000, 10)\n"
     ]
    }
   ],
   "source": [
    "hands = np.array([hm.rand() for x in range(1000000)])\n",
    "\n",
    "xs = hands[:,:10]\n",
    "ys = hands[:,10:]\n",
    "\n",
    "print(np.array(xs).shape)"
   ]
  },
  {
   "cell_type": "code",
   "execution_count": 3,
   "metadata": {},
   "outputs": [
    {
     "name": "stdout",
     "output_type": "stream",
     "text": [
      "WARNING:tensorflow:From C:\\ProgramData\\Anaconda3\\lib\\site-packages\\tensorflow\\python\\ops\\resource_variable_ops.py:435: colocate_with (from tensorflow.python.framework.ops) is deprecated and will be removed in a future version.\n",
      "Instructions for updating:\n",
      "Colocations handled automatically by placer.\n",
      "Epoch 1/10\n",
      "1000000/1000000 [==============================] - 215s 215us/sample - loss: 0.4045 - acc: 0.8401\n",
      "Epoch 2/10\n",
      "1000000/1000000 [==============================] - 215s 215us/sample - loss: 0.0928 - acc: 0.9684\n",
      "Epoch 3/10\n",
      "1000000/1000000 [==============================] - 223s 223us/sample - loss: 0.0309 - acc: 0.9918\n",
      "Epoch 4/10\n",
      "1000000/1000000 [==============================] - 220s 220us/sample - loss: 0.0179 - acc: 0.9955\n",
      "Epoch 5/10\n",
      "1000000/1000000 [==============================] - 215s 215us/sample - loss: 0.0134 - acc: 0.9966\n",
      "Epoch 6/10\n",
      "1000000/1000000 [==============================] - 216s 216us/sample - loss: 0.0134 - acc: 0.9967\n",
      "Epoch 7/10\n",
      "1000000/1000000 [==============================] - 214s 214us/sample - loss: 0.0096 - acc: 0.9976\n",
      "Epoch 8/10\n",
      "1000000/1000000 [==============================] - 215s 215us/sample - loss: 0.0094 - acc: 0.9977\n",
      "Epoch 9/10\n",
      "1000000/1000000 [==============================] - 213s 213us/sample - loss: 0.0081 - acc: 0.9981\n",
      "Epoch 10/10\n",
      "1000000/1000000 [==============================] - 198s 198us/sample - loss: 0.0074 - acc: 0.9982\n"
     ]
    },
    {
     "data": {
      "text/plain": [
       "<tensorflow.python.keras.callbacks.History at 0x2720a12e828>"
      ]
     },
     "execution_count": 3,
     "metadata": {},
     "output_type": "execute_result"
    }
   ],
   "source": [
    "model = tf.keras.models.Sequential()\n",
    "\n",
    "model.add(tf.keras.layers.Flatten(input_shape=(10,)))\n",
    "model.add(tf.keras.layers.Dense(512, activation='relu'))\n",
    "model.add(tf.keras.layers.Dense(512, activation='relu'))\n",
    "model.add(tf.keras.layers.Dense(10, activation='softmax'))\n",
    "\n",
    "model.compile(optimizer='adam', loss='sparse_categorical_crossentropy', metrics=['accuracy'])\n",
    "\n",
    "model.fit([xs], [ys], epochs=10, use_multiprocessing=True)"
   ]
  },
  {
   "cell_type": "code",
   "execution_count": 4,
   "metadata": {},
   "outputs": [
    {
     "name": "stdout",
     "output_type": "stream",
     "text": [
      "100000/100000 [==============================] - 6s 62us/sample - loss: 0.0066 - acc: 0.9983\n"
     ]
    },
    {
     "data": {
      "text/plain": [
       "[0.0065922342706046765, 0.99827]"
      ]
     },
     "execution_count": 4,
     "metadata": {},
     "output_type": "execute_result"
    }
   ],
   "source": [
    "hands = np.array([hm.rand() for x in range(100000)])\n",
    "xs_test = hands[:,:10]\n",
    "ys_test = hands[:,10:]\n",
    "\n",
    "model.evaluate(xs_test, ys_test)"
   ]
  },
  {
   "cell_type": "code",
   "execution_count": 5,
   "metadata": {},
   "outputs": [],
   "source": [
    "model.save(\"models/final_model.h5\")"
   ]
  }
 ],
 "metadata": {
  "kernelspec": {
   "display_name": "Python 3",
   "language": "python",
   "name": "python3"
  },
  "language_info": {
   "codemirror_mode": {
    "name": "ipython",
    "version": 3
   },
   "file_extension": ".py",
   "mimetype": "text/x-python",
   "name": "python",
   "nbconvert_exporter": "python",
   "pygments_lexer": "ipython3",
   "version": "3.7.1"
  }
 },
 "nbformat": 4,
 "nbformat_minor": 2
}
