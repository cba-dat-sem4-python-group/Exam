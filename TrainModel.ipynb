{
 "cells": [
  {
   "cell_type": "code",
   "execution_count": 1,
   "metadata": {},
   "outputs": [],
   "source": [
    "import HandMaker as hm\n",
    "import HandChecker as hc\n",
    "import numpy as np\n",
    "import tensorflow as tf"
   ]
  },
  {
   "cell_type": "code",
   "execution_count": 2,
   "metadata": {},
   "outputs": [
    {
     "name": "stdout",
     "output_type": "stream",
     "text": [
      "(1000000, 10)\n"
     ]
    }
   ],
   "source": [
    "hands = np.array([hm.rand() for x in range(1000000)])\n",
    "\n",
    "xs = hands[:,:10]\n",
    "ys = hands[:,10:]\n",
    "\n",
    "print(np.array(xs).shape)"
   ]
  },
  {
   "cell_type": "code",
   "execution_count": 3,
   "metadata": {},
   "outputs": [
    {
     "name": "stdout",
     "output_type": "stream",
     "text": [
      "WARNING:tensorflow:From C:\\ProgramData\\Anaconda3\\lib\\site-packages\\tensorflow\\python\\ops\\resource_variable_ops.py:435: colocate_with (from tensorflow.python.framework.ops) is deprecated and will be removed in a future version.\n",
      "Instructions for updating:\n",
      "Colocations handled automatically by placer.\n",
      "Epoch 1/5\n",
      "1000000/1000000 [==============================] - 328s 328us/sample - loss: 0.3706 - acc: 0.8556\n",
      "Epoch 2/5\n",
      "1000000/1000000 [==============================] - 319s 319us/sample - loss: 0.0733 - acc: 0.9767\n",
      "Epoch 3/5\n",
      "1000000/1000000 [==============================] - 175s 175us/sample - loss: 0.0283 - acc: 0.9925\n",
      "Epoch 4/5\n",
      "1000000/1000000 [==============================] - 175s 175us/sample - loss: 0.0187 - acc: 0.9952\n",
      "Epoch 5/5\n",
      "1000000/1000000 [==============================] - 175s 175us/sample - loss: 0.0137 - acc: 0.9965\n"
     ]
    },
    {
     "data": {
      "text/plain": [
       "<tensorflow.python.keras.callbacks.History at 0x29798d94588>"
      ]
     },
     "execution_count": 3,
     "metadata": {},
     "output_type": "execute_result"
    }
   ],
   "source": [
    "model = tf.keras.models.Sequential()\n",
    "\n",
    "model.add(tf.keras.layers.Flatten(input_shape=(10,)))\n",
    "model.add(tf.keras.layers.Dense(512, activation='relu'))\n",
    "model.add(tf.keras.layers.Dense(512, activation='relu'))\n",
    "model.add(tf.keras.layers.Dense(10, activation='softmax'))\n",
    "\n",
    "model.compile(optimizer='adam', loss='sparse_categorical_crossentropy', metrics=['accuracy'])\n",
    "\n",
    "model.fit([xs], [ys], epochs=10, use_multiprocessing=True)"
   ]
  },
  {
   "cell_type": "code",
   "execution_count": 125,
   "metadata": {},
   "outputs": [
    {
     "name": "stdout",
     "output_type": "stream",
     "text": [
      "100000/100000 [==============================] - 3s 33us/sample - loss: 0.0011 - acc: 0.9998\n"
     ]
    },
    {
     "data": {
      "text/plain": [
       "[0.0010958753074385458, 0.9998]"
      ]
     },
     "execution_count": 125,
     "metadata": {},
     "output_type": "execute_result"
    }
   ],
   "source": [
    "hands = np.array([hm.rand() for x in range(100000)])\n",
    "xs_test = hands[:,:10]\n",
    "ys_test = hands[:,10:]\n",
    "\n",
    "model.evaluate(xs_test, ys_test)"
   ]
  },
  {
   "cell_type": "code",
   "execution_count": null,
   "metadata": {},
   "outputs": [],
   "source": []
  }
 ],
 "metadata": {
  "kernelspec": {
   "display_name": "Python 3",
   "language": "python",
   "name": "python3"
  },
  "language_info": {
   "codemirror_mode": {
    "name": "ipython",
    "version": 3
   },
   "file_extension": ".py",
   "mimetype": "text/x-python",
   "name": "python",
   "nbconvert_exporter": "python",
   "pygments_lexer": "ipython3",
   "version": "3.7.1"
  }
 },
 "nbformat": 4,
 "nbformat_minor": 2
}
