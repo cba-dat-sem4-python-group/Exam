{
 "cells": [
  {
   "cell_type": "code",
   "execution_count": 32,
   "metadata": {},
   "outputs": [
    {
     "name": "stdout",
     "output_type": "stream",
     "text": [
      "(2.0, 2.0)\n",
      "[(0, 0), (4, 0), (4, 4), (0, 4)]\n"
     ]
    }
   ],
   "source": [
    "from shapely import geometry\n",
    "import math\n",
    "import numpy as np\n",
    "\n",
    "\n",
    "\n",
    "coords = [(166,245),(192,25),(333,258),(350, 38)]\n",
    "coords2 = [(298,73),(147,216),(260,321),(406,164)]\n",
    "\n",
    "\n",
    "\n",
    "\n",
    "\n",
    "c = [(0,0),(0,4),(4,0),(4,4)]\n",
    "\n",
    "cent=(sum([p[0] for p in c])/len(c),sum([p[1] for p in c])/len(c))\n",
    "print(cent)\n",
    "\n",
    "c.sort(key=lambda p: math.atan2(p[1]-cent[1],p[0]-cent[0]))\n",
    "print(c)\n"
   ]
  },
  {
   "cell_type": "code",
   "execution_count": null,
   "metadata": {},
   "outputs": [],
   "source": []
  }
 ],
 "metadata": {
  "kernelspec": {
   "display_name": "Python 3",
   "language": "python",
   "name": "python3"
  },
  "language_info": {
   "codemirror_mode": {
    "name": "ipython",
    "version": 3
   },
   "file_extension": ".py",
   "mimetype": "text/x-python",
   "name": "python",
   "nbconvert_exporter": "python",
   "pygments_lexer": "ipython3",
   "version": "3.7.1"
  }
 },
 "nbformat": 4,
 "nbformat_minor": 2
}
